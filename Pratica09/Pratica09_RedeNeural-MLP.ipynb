{
 "cells": [
  {
   "cell_type": "markdown",
   "id": "439a8dc2",
   "metadata": {
    "id": "439a8dc2"
   },
   "source": [
    "**Prática 09**: Implementando uma Rede Neural do Zero com NumPy\n",
    "\n",
    "**Objetivo:** Compreender o funcionamento interno de uma rede neural (MLP), implementando as etapas de forward propagation, backpropagation e atualização dos pesos **do zero**, utilizando apenas NumPy.\n",
    "\n",
    "\n",
    "### Etapas:\n",
    "1. Inicializar os pesos e bias\n",
    "2. Implementar a propagação direta (forward)\n",
    "3. Implementar a retropropagação do erro (backward)\n",
    "4. Treinar e testar a rede\n",
    "5. (Desafio) Adaptar para regressão simples\n",
    "\n"
   ]
  },
  {
   "cell_type": "code",
   "execution_count": 1,
   "id": "ca9c0dab",
   "metadata": {
    "colab": {
     "base_uri": "https://localhost:8080/"
    },
    "executionInfo": {
     "elapsed": 1520,
     "status": "ok",
     "timestamp": 1751020654175,
     "user": {
      "displayName": "Ismael Santana",
      "userId": "16092027078917579500"
     },
     "user_tz": 180
    },
    "id": "ca9c0dab",
    "outputId": "728677f2-c6e0-4633-ec23-9e1a283bc350"
   },
   "outputs": [
    {
     "name": "stdout",
     "output_type": "stream",
     "text": [
      "Formato dos dados de treino: (80, 2) (80, 1)\n"
     ]
    }
   ],
   "source": [
    "import numpy as np\n",
    "import matplotlib.pyplot as plt\n",
    "from sklearn.datasets import load_iris\n",
    "from sklearn.model_selection import train_test_split\n",
    "from sklearn.preprocessing import StandardScaler\n",
    "from sklearn.metrics import accuracy_score, confusion_matrix\n",
    "\n",
    "# Carregar e preparar os dados (Iris). Simplificação dos dados para melhorar a didática\n",
    "data = load_iris()\n",
    "X = data.data[data.target != 2][:, :2]  # Usar apenas 2 features para visualização\n",
    "y = data.target[data.target != 2].reshape(-1, 1)  # Classes 0 e 1\n",
    "\n",
    "# Padronização dos dados\n",
    "scaler = StandardScaler()\n",
    "X = scaler.fit_transform(X)\n",
    "\n",
    "# Separar em treino e teste\n",
    "X_train, X_test, y_train, y_test = train_test_split(X, y, test_size=0.2, random_state=42)\n",
    "\n",
    "print(\"Formato dos dados de treino:\", X_train.shape, y_train.shape)"
   ]
  },
  {
   "cell_type": "code",
   "execution_count": 2,
   "id": "41dc26cf",
   "metadata": {
    "executionInfo": {
     "elapsed": 2,
     "status": "ok",
     "timestamp": 1751020654184,
     "user": {
      "displayName": "Ismael Santana",
      "userId": "16092027078917579500"
     },
     "user_tz": 180
    },
    "id": "41dc26cf"
   },
   "outputs": [],
   "source": [
    "# Funções auxiliares de ativação e derivadas\n",
    "\n",
    "def sigmoid(x):\n",
    "    return 1 / (1 + np.exp(-x))\n",
    "\n",
    "def sigmoid_derivada(x):\n",
    "    return sigmoid(x) * (1 - sigmoid(x))\n",
    "\n",
    "def relu(x):\n",
    "    return np.maximum(0, x)\n",
    "\n",
    "def relu_derivada(x):\n",
    "    return (x > 0).astype(float)\n",
    "\n",
    "def mse(y_true, y_pred):\n",
    "    return np.mean((y_true - y_pred) ** 2)\n",
    "\n",
    "def mse_derivada(y_true, y_pred):\n",
    "    return 2 * (y_pred - y_true) / y_true.size"
   ]
  },
  {
   "cell_type": "code",
   "execution_count": 3,
   "id": "bd889544",
   "metadata": {
    "executionInfo": {
     "elapsed": 12,
     "status": "ok",
     "timestamp": 1751020670879,
     "user": {
      "displayName": "Ismael Santana",
      "userId": "16092027078917579500"
     },
     "user_tz": 180
    },
    "id": "bd889544"
   },
   "outputs": [],
   "source": [
    "# Inicialização dos pesos\n",
    "np.random.seed(0)\n",
    "input_size = 2\n",
    "hidden_size = 5\n",
    "output_size = 1\n",
    "\n",
    "W1 = np.random.randn(input_size, hidden_size)\n",
    "b1 = np.zeros((1, hidden_size))\n",
    "\n",
    "# TODO: Complete a inicialização dos pesos e bias\n",
    "W2 = np.random.randn(hidden_size, output_size)\n",
    "b2 = np.zeros((1, output_size))"
   ]
  },
  {
   "cell_type": "code",
   "execution_count": 4,
   "id": "15a50709",
   "metadata": {
    "id": "15a50709"
   },
   "outputs": [],
   "source": [
    "# Forward propagation\n",
    "# TODO: Complete a implementação do forward\n",
    "def forward(X):\n",
    "    global Z1, A1, Z2, A2\n",
    "    Z1 = np.dot(X, W1) + b1\n",
    "    A1 = relu(Z1)\n",
    "    Z2 = np.dot(A1, W2) + b2\n",
    "    A2 = sigmoid(Z2)\n",
    "    return A2"
   ]
  },
  {
   "cell_type": "code",
   "execution_count": 5,
   "id": "896f1ea0",
   "metadata": {
    "id": "896f1ea0"
   },
   "outputs": [],
   "source": [
    "# Backpropagation\n",
    "def backward(X, y, learning_rate=0.01):\n",
    "    global W1, b1, W2, b2\n",
    "    m = y.shape[0]\n",
    "\n",
    "    dZ2 = mse_derivada(y, A2) * sigmoid_derivada(Z2)\n",
    "    dW2 = np.dot(A1.T, dZ2) / m\n",
    "    db2 = np.sum(dZ2, axis=0, keepdims=True) / m\n",
    "\n",
    "    # TODO: Complete os cálculos de gradientes e atualização dos pesos\n",
    "    dZ1 = np.dot(dZ2, W2.T) * relu_derivada(Z1)\n",
    "    dW1 = np.dot(X.T, dZ1) / m\n",
    "    db1 = np.sum(dZ1, axis=0, keepdims=True) / m\n",
    "\n",
    "    W1 -= learning_rate * dW1\n",
    "    b1 -= learning_rate * db1\n",
    "    W2 -= learning_rate * dW2\n",
    "    b2 -= learning_rate * db2"
   ]
  },
  {
   "cell_type": "code",
   "execution_count": 7,
   "id": "e4193b7d",
   "metadata": {
    "colab": {
     "base_uri": "https://localhost:8080/"
    },
    "executionInfo": {
     "elapsed": 2179,
     "status": "ok",
     "timestamp": 1751019285627,
     "user": {
      "displayName": "Ismael Santana",
      "userId": "16092027078917579500"
     },
     "user_tz": 180
    },
    "id": "e4193b7d",
    "outputId": "4293ed64-23d4-4a96-9cf7-1f7d4b9aaec6"
   },
   "outputs": [
    {
     "name": "stdout",
     "output_type": "stream",
     "text": [
      "Época 0, Erro: 0.2534\n",
      "Época 1000, Erro: 0.2172\n",
      "Época 2000, Erro: 0.1889\n",
      "Época 3000, Erro: 0.1676\n",
      "Época 4000, Erro: 0.1510\n",
      "Época 5000, Erro: 0.1371\n",
      "Época 6000, Erro: 0.1263\n",
      "Época 7000, Erro: 0.1167\n",
      "Época 8000, Erro: 0.1069\n",
      "Época 9000, Erro: 0.0986\n"
     ]
    }
   ],
   "source": [
    "# Treinamento da rede\n",
    "# TODO: Execute o treinamento por 10000 épocas e utilize o mse como função de perda (erro)\n",
    "for epoca in range(10000):\n",
    "    y_pred = forward(X_train)\n",
    "    erro = mse(y_train, y_pred)\n",
    "    backward(X_train, y_train, learning_rate=0.1)\n",
    "    if epoca % 1000 == 0:\n",
    "        print(f\"Época {epoca}, Erro: {erro:.4f}\")"
   ]
  },
  {
   "cell_type": "code",
   "execution_count": 8,
   "id": "1bac5ed1",
   "metadata": {
    "colab": {
     "base_uri": "https://localhost:8080/"
    },
    "executionInfo": {
     "elapsed": 13,
     "status": "ok",
     "timestamp": 1751019285642,
     "user": {
      "displayName": "Ismael Santana",
      "userId": "16092027078917579500"
     },
     "user_tz": 180
    },
    "id": "1bac5ed1",
    "outputId": "d01523e3-7306-4556-8d5d-842b2691e152"
   },
   "outputs": [
    {
     "name": "stdout",
     "output_type": "stream",
     "text": [
      "Acurácia no teste: 0.95\n",
      "Matriz de confusão:\n",
      " [[11  1]\n",
      " [ 0  8]]\n"
     ]
    }
   ],
   "source": [
    "# Avaliação no conjunto de teste\n",
    "y_pred_test = forward(X_test)\n",
    "# TODO: Mostre os resultados finais. Defina um limiar de 0.5 para definir a classe\n",
    "\n",
    "pred_class = (y_pred_test > 0.5  ).astype(int)\n",
    "\n",
    "print(\"Acurácia no teste:\", accuracy_score(y_test, pred_class))\n",
    "print(\"Matriz de confusão:\\n\", confusion_matrix(y_test, pred_class))"
   ]
  }
 ],
 "metadata": {
  "colab": {
   "provenance": []
  },
  "kernelspec": {
   "display_name": "Python 3",
   "name": "python3"
  },
  "language_info": {
   "codemirror_mode": {
    "name": "ipython",
    "version": 3
   },
   "file_extension": ".py",
   "mimetype": "text/x-python",
   "name": "python",
   "nbconvert_exporter": "python",
   "pygments_lexer": "ipython3",
   "version": "3.12.5"
  }
 },
 "nbformat": 4,
 "nbformat_minor": 5
}
