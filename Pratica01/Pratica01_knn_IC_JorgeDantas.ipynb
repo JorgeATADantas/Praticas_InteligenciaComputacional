{
  "nbformat": 4,
  "nbformat_minor": 0,
  "metadata": {
    "colab": {
      "provenance": []
    },
    "kernelspec": {
      "name": "python3",
      "display_name": "Python 3"
    },
    "language_info": {
      "name": "python"
    }
  },
  "cells": [
    {
      "cell_type": "markdown",
      "source": [
        "**Prática 1 – Análise dos Parâmetros do classificador kNN**"
      ],
      "metadata": {
        "id": "RNT6qs9d5eKV"
      }
    },
    {
      "cell_type": "markdown",
      "source": [
        "**Aluno: Jorge Aliomar Trocoli Abdon Dantas**"
      ],
      "metadata": {
        "id": "jsMZF80t5rUY"
      }
    },
    {
      "cell_type": "markdown",
      "source": [
        "**Objetivo(s):**\n",
        "\n",
        "Avaliar o impacto de diferentes configurações de parâmetros do algoritmo KNN sobre o desempenho da classificação\n",
        "em conjuntos de dados reais, utilizando arquivos .csv. Ou seja, avaliar o desempenho do algoritmo KNN em diferentes\n",
        "configurações de parâmetros, como:\n",
        "- Número de vizinhos (k)\n",
        "- Tipo de distância (métrica)\n",
        "- Tipo de ponderação (pesos)"
      ],
      "metadata": {
        "id": "6nIlnLZ75zkf"
      }
    },
    {
      "cell_type": "markdown",
      "source": [
        "#1. BANCO DE DADOS: IRIS.CSV"
      ],
      "metadata": {
        "id": "OtEpd_nG6Len"
      }
    },
    {
      "cell_type": "code",
      "source": [
        "#Importando Bibliotecas Pertinentes\n",
        "\n",
        "import pandas as pd;                                  # Biblioteca Pandas\n",
        "from sklearn.model_selection import train_test_split; # train_test_split do sklearn\n",
        "from sklearn.preprocessing   import StandardScaler;   # Normalizador Padrão do sklearn"
      ],
      "metadata": {
        "id": "Jbip5JyW53g5"
      },
      "execution_count": 1,
      "outputs": []
    },
    {
      "cell_type": "code",
      "source": [
        "#Carregando Base de dados\n",
        "df_iris = pd.read_csv(\"iris.csv\", sep = \",\");"
      ],
      "metadata": {
        "id": "pjv13BeH7M_w"
      },
      "execution_count": 2,
      "outputs": []
    },
    {
      "cell_type": "code",
      "source": [
        "# Verificar as primeiras linhas\n",
        "print(df_iris.head())"
      ],
      "metadata": {
        "colab": {
          "base_uri": "https://localhost:8080/"
        },
        "id": "dHpdLD9H8n0-",
        "outputId": "36db27d7-9c1c-4f74-ebbd-fdf341e363ed"
      },
      "execution_count": 3,
      "outputs": [
        {
          "output_type": "stream",
          "name": "stdout",
          "text": [
            "   sepal_length  sepal_width  petal_length  petal_width species\n",
            "0           5.1          3.5           1.4          0.2  setosa\n",
            "1           4.9          3.0           1.4          0.2  setosa\n",
            "2           4.7          3.2           1.3          0.2  setosa\n",
            "3           4.6          3.1           1.5          0.2  setosa\n",
            "4           5.0          3.6           1.4          0.2  setosa\n"
          ]
        }
      ]
    },
    {
      "cell_type": "code",
      "source": [
        "df_iris.info()"
      ],
      "metadata": {
        "colab": {
          "base_uri": "https://localhost:8080/"
        },
        "id": "oiLtGSNrF2tA",
        "outputId": "c194eded-6ebf-427f-f535-369204ce51da"
      },
      "execution_count": 4,
      "outputs": [
        {
          "output_type": "stream",
          "name": "stdout",
          "text": [
            "<class 'pandas.core.frame.DataFrame'>\n",
            "RangeIndex: 150 entries, 0 to 149\n",
            "Data columns (total 5 columns):\n",
            " #   Column        Non-Null Count  Dtype  \n",
            "---  ------        --------------  -----  \n",
            " 0   sepal_length  150 non-null    float64\n",
            " 1   sepal_width   150 non-null    float64\n",
            " 2   petal_length  150 non-null    float64\n",
            " 3   petal_width   150 non-null    float64\n",
            " 4   species       150 non-null    object \n",
            "dtypes: float64(4), object(1)\n",
            "memory usage: 6.0+ KB\n"
          ]
        }
      ]
    },
    {
      "cell_type": "code",
      "source": [
        "# Separar atributos e classe\n",
        "X = df_iris.drop(columns = ['species'])\n",
        "y = df_iris['species']"
      ],
      "metadata": {
        "id": "DZZc4-By9nIY"
      },
      "execution_count": 5,
      "outputs": []
    },
    {
      "cell_type": "markdown",
      "source": [
        "##1.1 - Parte 1 - Utilizando Normalização (StandardScaler)"
      ],
      "metadata": {
        "id": "gfPxTdv36YA0"
      }
    },
    {
      "cell_type": "code",
      "source": [
        "# Normalização\n",
        "scaler = StandardScaler()\n",
        "X_scaled = scaler.fit_transform(X)"
      ],
      "metadata": {
        "id": "wZvZJLHi-zeg"
      },
      "execution_count": 6,
      "outputs": []
    },
    {
      "cell_type": "code",
      "source": [
        "# Divisão treino/teste\n",
        "X_train, X_test, y_train, y_test = train_test_split(X_scaled, y, test_size = 0.3, random_state = 42)"
      ],
      "metadata": {
        "id": "1JT5vehf_ASr"
      },
      "execution_count": 7,
      "outputs": []
    },
    {
      "cell_type": "markdown",
      "source": [
        "###1.1.a) - Avaliação dos Parâmetros - Número k de vizinhos (n_neighbors)"
      ],
      "metadata": {
        "id": "CifsYPUb_9_H"
      }
    },
    {
      "cell_type": "code",
      "source": [
        "#Importando o classificador knn\n",
        "from sklearn.neighbors import KNeighborsClassifier\n",
        "\n",
        "#Importando as métricas - accuracy_score\n",
        "from sklearn.metrics import accuracy_score\n",
        "\n",
        "#Importanto a Biblioteca Matplotlib\n",
        "import matplotlib.pyplot as plt"
      ],
      "metadata": {
        "id": "3HbkS2Kt_Zs0"
      },
      "execution_count": 8,
      "outputs": []
    },
    {
      "cell_type": "code",
      "source": [
        "#Construindo vetor dos k vizinhos\n",
        "k_values = range(1,31)"
      ],
      "metadata": {
        "id": "HbOvBP1JAeK_"
      },
      "execution_count": 9,
      "outputs": []
    },
    {
      "cell_type": "code",
      "source": [
        "#Definindo variável de accuracies\n",
        "accuracies = []"
      ],
      "metadata": {
        "id": "yVSmQb7kAo5X"
      },
      "execution_count": 10,
      "outputs": []
    },
    {
      "cell_type": "code",
      "source": [
        "#Determinando as accuracies para cada valor de k\n",
        "for k in k_values:\n",
        "  knn = KNeighborsClassifier(n_neighbors=k) #Construindo o classificador do modelo knn\n",
        "  knn.fit(X_train, y_train)                 #Treinando o modelo knn com os dados de treino\n",
        "  y_pred = knn.predict(X_test)              #Predição do modelo knn com os dados de teste\n",
        "  acc = accuracy_score(y_test,y_pred)       #Calculo do accuracy_score\n",
        "  accuracies.append(acc)                    #Inserção do accuracy_score na lista accuracies\n"
      ],
      "metadata": {
        "id": "Dzd9gtM7XZM5"
      },
      "execution_count": 11,
      "outputs": []
    },
    {
      "cell_type": "code",
      "source": [
        "#Plotando os resultados\n",
        "plt.plot(k_values, accuracies, marker='o')\n",
        "plt.xlabel('Número de Vizinhos (k)')\n",
        "plt.ylabel('Acurácia')\n",
        "plt.title('Acurácia em função de k')\n",
        "plt.grid()\n",
        "plt.xticks(ticks=range(1, 31, 1))\n",
        "plt.show()"
      ],
      "metadata": {
        "colab": {
          "base_uri": "https://localhost:8080/",
          "height": 472
        },
        "id": "ErgYxkc4-idF",
        "outputId": "bc26d6cd-f559-41f1-92b8-284ea82ad906"
      },
      "execution_count": 12,
      "outputs": [
        {
          "output_type": "display_data",
          "data": {
            "text/plain": [
              "<Figure size 640x480 with 1 Axes>"
            ],
            "image/png": "[encoded data removed]"
          },
          "metadata": {}
        }
      ]
    },
    {
      "cell_type": "markdown",
      "source": [
        "###1.1.b) - Avaliação dos Parâmetros -  Distâncias (metric)\n"
      ],
      "metadata": {
        "id": "zLKq04hW_hId"
      }
    },
    {
      "cell_type": "markdown",
      "source": [
        "Para executar esse trecho de código, escolha o melhor k (neighbors) a partir do experimento anterior."
      ],
      "metadata": {
        "id": "K56ZrkKR_ukK"
      }
    },
    {
      "cell_type": "code",
      "source": [
        "#Vetor dos tipos de distância\n",
        "metrics = ['euclidean', 'manhattan']\n",
        "\n",
        "#Determinando as accuracies para o melhor valor de K e para cada tipo de distância\n",
        "for metric in metrics:\n",
        "  knn = KNeighborsClassifier(n_neighbors=5,\n",
        "                             metric=metric) #Construindo o classificador do modelo knn\n",
        "  knn.fit(X_train, y_train)                 #Treinando o modelo knn com os dados de treino\n",
        "  y_pred = knn.predict(X_test)              #Predição do modelo knn com os dados de teste\n",
        "  acc = accuracy_score(y_test, y_pred)      #Calculo do accuracy_score\n",
        "  print(f\"Distância: {metric} | Acurácia: {acc:.4f}\")"
      ],
      "metadata": {
        "colab": {
          "base_uri": "https://localhost:8080/"
        },
        "id": "TvVQ3xYS_Us0",
        "outputId": "6af69b99-b7a8-46ca-9135-be7d85f70619"
      },
      "execution_count": 13,
      "outputs": [
        {
          "output_type": "stream",
          "name": "stdout",
          "text": [
            "Distância: euclidean | Acurácia: 1.0000\n",
            "Distância: manhattan | Acurácia: 1.0000\n"
          ]
        }
      ]
    },
    {
      "cell_type": "markdown",
      "source": [
        "###1.1.c) - Avaliação dos Parâmetros -  Pesos (weights)"
      ],
      "metadata": {
        "id": "fmlZkj-HCBOr"
      }
    },
    {
      "cell_type": "code",
      "source": [
        "#Vetor dos tipos de pesos\n",
        "weights_list = ['uniform', 'distance']\n",
        "\n",
        "#Determinando as accuracies para o melhor valor de K, distância elclidiana e para tipo de peso\n",
        "for w in weights_list:\n",
        "  knn = KNeighborsClassifier(n_neighbors=5,\n",
        "                             metric='euclidean',\n",
        "                             weights=w) #Construindo o classificador do modelo knn\n",
        "  knn.fit(X_train, y_train)             #Treinando o modelo knn com os dados de treino\n",
        "  y_pred = knn.predict(X_test)          #Predição do modelo knn com os dados de teste\n",
        "  acc = accuracy_score(y_test,y_pred)   #Calculo do accuracy_score\n",
        "  print(f\"Peso: {w} | Acurácia: {acc:.4f}\")\n"
      ],
      "metadata": {
        "colab": {
          "base_uri": "https://localhost:8080/"
        },
        "id": "ge20zCVEApfk",
        "outputId": "725ea288-d6d1-4b38-dd4c-23991eb7ea5a"
      },
      "execution_count": 14,
      "outputs": [
        {
          "output_type": "stream",
          "name": "stdout",
          "text": [
            "Peso: uniform | Acurácia: 1.0000\n",
            "Peso: distance | Acurácia: 1.0000\n"
          ]
        }
      ]
    },
    {
      "cell_type": "markdown",
      "source": [
        "##1.2 - Parte 2 - SEM utilização de Normalização"
      ],
      "metadata": {
        "id": "P1a3pm03Eb23"
      }
    },
    {
      "cell_type": "code",
      "source": [
        "# Divisão treino/teste\n",
        "X_train, X_test, y_train, y_test = train_test_split(X, y, test_size = 0.3, random_state = 42)"
      ],
      "metadata": {
        "id": "4lPTAz7uDY3U"
      },
      "execution_count": 15,
      "outputs": []
    },
    {
      "cell_type": "markdown",
      "source": [
        "###1.2.a) - Avaliação dos Parâmetros - Número k de vizinhos (n_neighbors)"
      ],
      "metadata": {
        "id": "Zfrt-_c1Mvl1"
      }
    },
    {
      "cell_type": "code",
      "source": [
        "#Importando o classificador knn\n",
        "from sklearn.neighbors import KNeighborsClassifier\n",
        "\n",
        "#Importando as métricas - accuracy_score\n",
        "from sklearn.metrics import accuracy_score\n",
        "\n",
        "#Importanto a Biblioteca Matplotlib\n",
        "import matplotlib.pyplot as plt"
      ],
      "metadata": {
        "id": "TqT4hWgZMvl2"
      },
      "execution_count": 16,
      "outputs": []
    },
    {
      "cell_type": "code",
      "source": [
        "#Construindo vetor dos k vizinhos\n",
        "k_values = range(1,31)"
      ],
      "metadata": {
        "id": "iAJNDGFAMvl2"
      },
      "execution_count": 17,
      "outputs": []
    },
    {
      "cell_type": "code",
      "source": [
        "#Definindo variável de accuracies\n",
        "accuracies = []"
      ],
      "metadata": {
        "id": "MEyU1_FhMvl2"
      },
      "execution_count": 18,
      "outputs": []
    },
    {
      "cell_type": "code",
      "source": [
        "#Determinando as accuracies para cada valor de k\n",
        "for k in k_values:\n",
        "  knn = KNeighborsClassifier(n_neighbors=k) #Construindo o classificador do modelo knn\n",
        "  knn.fit(X_train, y_train)                 #Treinando o modelo knn com os dados de treino\n",
        "  y_pred = knn.predict(X_test)              #Predição do modelo knn com os dados de teste\n",
        "  acc = accuracy_score(y_test,y_pred)       #Calculo do accuracy_score\n",
        "  accuracies.append(acc)                    #Inserção do accuracy_score na lista accuracies\n"
      ],
      "metadata": {
        "id": "2cDFCbcAMvl2"
      },
      "execution_count": 19,
      "outputs": []
    },
    {
      "cell_type": "code",
      "source": [
        "#Plotando os resultados\n",
        "plt.plot(k_values, accuracies, marker='o')\n",
        "plt.xlabel('Número de Vizinhos (k)')\n",
        "plt.ylabel('Acurácia')\n",
        "plt.title('Acurácia em função de k')\n",
        "plt.grid()\n",
        "plt.xticks(ticks=range(1, 31, 1))\n",
        "plt.show()"
      ],
      "metadata": {
        "colab": {
          "base_uri": "https://localhost:8080/",
          "height": 472
        },
        "outputId": "ff42bbef-3877-40b7-adf1-5de92c5d860b",
        "id": "3Kdo-L3eMvl3"
      },
      "execution_count": 20,
      "outputs": [
        {
          "output_type": "display_data",
          "data": {
            "text/plain": [
              "<Figure size 640x480 with 1 Axes>"
            ],
            "image/png": "[encoded data removed]"
          },
          "metadata": {}
        }
      ]
    },
    {
      "cell_type": "markdown",
      "source": [
        "###1.2.b) - Avaliação dos Parâmetros -  Distâncias (metric)\n"
      ],
      "metadata": {
        "id": "9rfOSQhZMvl3"
      }
    },
    {
      "cell_type": "markdown",
      "source": [
        "Para executar esse trecho de código, escolha o melhor k (neighbors) a partir do experimento anterior."
      ],
      "metadata": {
        "id": "jVrZZZGWMvl3"
      }
    },
    {
      "cell_type": "code",
      "source": [
        "#Vetor dos tipos de distância\n",
        "metrics = ['euclidean', 'manhattan']\n",
        "\n",
        "#Determinando as accuracies para o melhor valor de K e para cada tipo de distância\n",
        "for metric in metrics:\n",
        "  knn = KNeighborsClassifier(n_neighbors=5,\n",
        "                             metric=metric) #Construindo o classificador do modelo knn\n",
        "  knn.fit(X_train, y_train)                 #Treinando o modelo knn com os dados de treino\n",
        "  y_pred = knn.predict(X_test)              #Predição do modelo knn com os dados de teste\n",
        "  acc = accuracy_score(y_test, y_pred)      #Calculo do accuracy_score\n",
        "  print(f\"Distância: {metric} | Acurácia: {acc:.4f}\")"
      ],
      "metadata": {
        "colab": {
          "base_uri": "https://localhost:8080/"
        },
        "outputId": "8b94a942-8b00-4367-b98d-72dcbb66bfca",
        "id": "3BDo3I3yMvl4"
      },
      "execution_count": 21,
      "outputs": [
        {
          "output_type": "stream",
          "name": "stdout",
          "text": [
            "Distância: euclidean | Acurácia: 1.0000\n",
            "Distância: manhattan | Acurácia: 1.0000\n"
          ]
        }
      ]
    },
    {
      "cell_type": "markdown",
      "source": [
        "###1.2.c) - Avaliação dos Parâmetros -  Pesos (weights)"
      ],
      "metadata": {
        "id": "2ajUmm7eMvl5"
      }
    },
    {
      "cell_type": "code",
      "source": [
        "#Vetor dos tipos de pesos\n",
        "weights_list = ['uniform', 'distance']\n",
        "\n",
        "#Determinando as accuracies para o melhor valor de K, distância elclidiana e para tipo de peso\n",
        "for w in weights_list:\n",
        "  knn = KNeighborsClassifier(n_neighbors=5,\n",
        "                             metric='euclidean',\n",
        "                             weights=w) #Construindo o classificador do modelo knn\n",
        "  knn.fit(X_train, y_train)             #Treinando o modelo knn com os dados de treino\n",
        "  y_pred = knn.predict(X_test)          #Predição do modelo knn com os dados de teste\n",
        "  acc = accuracy_score(y_test,y_pred)   #Calculo do accuracy_score\n",
        "  print(f\"Peso: {w} | Acurácia: {acc:.4f}\")\n"
      ],
      "metadata": {
        "colab": {
          "base_uri": "https://localhost:8080/"
        },
        "outputId": "a3702275-8b6a-47e6-afd6-c9718c9fdc60",
        "id": "zqzpdZV0Mvl6"
      },
      "execution_count": 22,
      "outputs": [
        {
          "output_type": "stream",
          "name": "stdout",
          "text": [
            "Peso: uniform | Acurácia: 1.0000\n",
            "Peso: distance | Acurácia: 1.0000\n"
          ]
        }
      ]
    },
    {
      "cell_type": "markdown",
      "source": [
        "#2. BANCO DE DADOS:  WineQT.csv"
      ],
      "metadata": {
        "id": "PzpzhChIOT6s"
      }
    },
    {
      "cell_type": "code",
      "source": [
        "#Importando Bibliotecas Pertinentes\n",
        "\n",
        "import pandas as pd;                                  # Biblioteca Pandas\n",
        "from sklearn.model_selection import train_test_split; # train_test_split do sklearn\n",
        "from sklearn.preprocessing   import StandardScaler;   # Normalizador Padrão do sklearn"
      ],
      "metadata": {
        "id": "BcMs19qlOT6t"
      },
      "execution_count": 23,
      "outputs": []
    },
    {
      "cell_type": "code",
      "source": [
        "#Carregando Base de dados\n",
        "df_wine = pd.read_csv(\"WineQT.csv\", sep = \",\");"
      ],
      "metadata": {
        "id": "-B90o6HaOT6t"
      },
      "execution_count": 24,
      "outputs": []
    },
    {
      "cell_type": "code",
      "source": [
        "# Verificar as primeiras linhas\n",
        "print(df_wine.head())"
      ],
      "metadata": {
        "colab": {
          "base_uri": "https://localhost:8080/"
        },
        "outputId": "c16acaa7-6632-49ee-e8fb-1b0ba8e8a8c7",
        "id": "ZHYyEdZ9OT6u"
      },
      "execution_count": 25,
      "outputs": [
        {
          "output_type": "stream",
          "name": "stdout",
          "text": [
            "   fixed acidity  volatile acidity  citric acid  residual sugar  chlorides  \\\n",
            "0            7.4              0.70         0.00             1.9      0.076   \n",
            "1            7.8              0.88         0.00             2.6      0.098   \n",
            "2            7.8              0.76         0.04             2.3      0.092   \n",
            "3           11.2              0.28         0.56             1.9      0.075   \n",
            "4            7.4              0.70         0.00             1.9      0.076   \n",
            "\n",
            "   free sulfur dioxide  total sulfur dioxide  density    pH  sulphates  \\\n",
            "0                 11.0                  34.0   0.9978  3.51       0.56   \n",
            "1                 25.0                  67.0   0.9968  3.20       0.68   \n",
            "2                 15.0                  54.0   0.9970  3.26       0.65   \n",
            "3                 17.0                  60.0   0.9980  3.16       0.58   \n",
            "4                 11.0                  34.0   0.9978  3.51       0.56   \n",
            "\n",
            "   alcohol  quality  Id  \n",
            "0      9.4        5   0  \n",
            "1      9.8        5   1  \n",
            "2      9.8        5   2  \n",
            "3      9.8        6   3  \n",
            "4      9.4        5   4  \n"
          ]
        }
      ]
    },
    {
      "cell_type": "code",
      "source": [
        "df_wine.info()"
      ],
      "metadata": {
        "colab": {
          "base_uri": "https://localhost:8080/"
        },
        "id": "55fFXT3WNeF5",
        "outputId": "81dd3d56-1548-4c0d-b276-ac76d84c0436"
      },
      "execution_count": 26,
      "outputs": [
        {
          "output_type": "stream",
          "name": "stdout",
          "text": [
            "<class 'pandas.core.frame.DataFrame'>\n",
            "RangeIndex: 1143 entries, 0 to 1142\n",
            "Data columns (total 13 columns):\n",
            " #   Column                Non-Null Count  Dtype  \n",
            "---  ------                --------------  -----  \n",
            " 0   fixed acidity         1143 non-null   float64\n",
            " 1   volatile acidity      1143 non-null   float64\n",
            " 2   citric acid           1143 non-null   float64\n",
            " 3   residual sugar        1143 non-null   float64\n",
            " 4   chlorides             1143 non-null   float64\n",
            " 5   free sulfur dioxide   1143 non-null   float64\n",
            " 6   total sulfur dioxide  1143 non-null   float64\n",
            " 7   density               1143 non-null   float64\n",
            " 8   pH                    1143 non-null   float64\n",
            " 9   sulphates             1143 non-null   float64\n",
            " 10  alcohol               1143 non-null   float64\n",
            " 11  quality               1143 non-null   int64  \n",
            " 12  Id                    1143 non-null   int64  \n",
            "dtypes: float64(11), int64(2)\n",
            "memory usage: 116.2 KB\n"
          ]
        }
      ]
    },
    {
      "cell_type": "code",
      "source": [
        "# Separar atributos e classe\n",
        "X = df_wine.drop(columns = ['quality'])\n",
        "y = df_wine['quality']"
      ],
      "metadata": {
        "id": "IBCWxT-qOT6u"
      },
      "execution_count": 27,
      "outputs": []
    },
    {
      "cell_type": "markdown",
      "source": [
        "##2.1 - Parte 1 - Utilizando Normalização (StandardScaler)"
      ],
      "metadata": {
        "id": "TEpMEAvYOT6u"
      }
    },
    {
      "cell_type": "code",
      "source": [
        "# Normalização\n",
        "scaler = StandardScaler()\n",
        "X_scaled = scaler.fit_transform(X)"
      ],
      "metadata": {
        "id": "rEP62nMmOT6v"
      },
      "execution_count": 67,
      "outputs": []
    },
    {
      "cell_type": "code",
      "source": [
        "# Divisão treino/teste\n",
        "X_train, X_test, y_train, y_test = train_test_split(X_scaled, y, test_size = 0.3, random_state = 42)"
      ],
      "metadata": {
        "id": "NnCaypr8OT6v"
      },
      "execution_count": 68,
      "outputs": []
    },
    {
      "cell_type": "markdown",
      "source": [
        "###2.1.a) - Avaliação dos Parâmetros - Número k de vizinhos (n_neighbors)"
      ],
      "metadata": {
        "id": "pVvm6NcBOT6v"
      }
    },
    {
      "cell_type": "code",
      "source": [
        "#Importando o classificador knn\n",
        "from sklearn.neighbors import KNeighborsClassifier\n",
        "\n",
        "#Importando as métricas - accuracy_score\n",
        "from sklearn.metrics import accuracy_score\n",
        "\n",
        "#Importanto a Biblioteca Matplotlib\n",
        "import matplotlib.pyplot as plt"
      ],
      "metadata": {
        "id": "b3Tc0BQ5OT6v"
      },
      "execution_count": 69,
      "outputs": []
    },
    {
      "cell_type": "code",
      "source": [
        "#Construindo vetor dos k vizinhos\n",
        "k_values = range(1,31)"
      ],
      "metadata": {
        "id": "oX7ZNs9OOT6w"
      },
      "execution_count": 70,
      "outputs": []
    },
    {
      "cell_type": "code",
      "source": [
        "#Definindo variável de accuracies\n",
        "accuracies = []"
      ],
      "metadata": {
        "id": "HwaJQYDlOT6w"
      },
      "execution_count": 71,
      "outputs": []
    },
    {
      "cell_type": "code",
      "source": [
        "#Determinando as accuracies para cada valor de k\n",
        "for k in k_values:\n",
        "  knn = KNeighborsClassifier(n_neighbors=k) #Construindo o classificador do modelo knn\n",
        "  knn.fit(X_train, y_train)                 #Treinando o modelo knn com os dados de treino\n",
        "  y_pred = knn.predict(X_test)              #Predição do modelo knn com os dados de teste\n",
        "  acc = accuracy_score(y_test,y_pred)       #Calculo do accuracy_score\n",
        "  accuracies.append(acc)                    #Inserção do accuracy_score na lista accuracies\n"
      ],
      "metadata": {
        "id": "o-KRvaz3OT6w"
      },
      "execution_count": 72,
      "outputs": []
    },
    {
      "cell_type": "code",
      "source": [
        "#Plotando os resultados\n",
        "plt.plot(k_values, accuracies, marker='o')\n",
        "plt.xlabel('Número de Vizinhos (k)')\n",
        "plt.ylabel('Acurácia')\n",
        "plt.title('Acurácia em função de k')\n",
        "plt.grid()\n",
        "plt.xticks(ticks=range(1, 31, 1))\n",
        "plt.show()"
      ],
      "metadata": {
        "colab": {
          "base_uri": "https://localhost:8080/",
          "height": 472
        },
        "outputId": "3e6b8e8b-fe8e-430d-98a9-6c800e587ef5",
        "id": "hX1Gnw0xOT6w"
      },
      "execution_count": 73,
      "outputs": [
        {
          "output_type": "display_data",
          "data": {
            "text/plain": [
              "<Figure size 640x480 with 1 Axes>"
            ],
            "image/png": "[encoded data removed]"
          },
          "metadata": {}
        }
      ]
    },
    {
      "cell_type": "markdown",
      "source": [
        "###2.1.b) - Avaliação dos Parâmetros -  Distâncias (metric)\n"
      ],
      "metadata": {
        "id": "203MUnV0OT6w"
      }
    },
    {
      "cell_type": "markdown",
      "source": [
        "Para executar esse trecho de código, escolha o melhor k (neighbors) a partir do experimento anterior."
      ],
      "metadata": {
        "id": "QpY5WwY8OT6x"
      }
    },
    {
      "cell_type": "code",
      "source": [
        "#Vetor dos tipos de distância\n",
        "metrics = ['euclidean', 'manhattan']\n",
        "\n",
        "#Determinando as accuracies para o melhor valor de K e para cada tipo de distância\n",
        "for metric in metrics:\n",
        "  knn = KNeighborsClassifier(n_neighbors=17,\n",
        "                             metric=metric) #Construindo o classificador do modelo knn\n",
        "  knn.fit(X_train, y_train)                 #Treinando o modelo knn com os dados de treino\n",
        "  y_pred = knn.predict(X_test)              #Predição do modelo knn com os dados de teste\n",
        "  acc = accuracy_score(y_test, y_pred)      #Calculo do accuracy_score\n",
        "  print(f\"Distância: {metric} | Acurácia: {acc:.4f}\")"
      ],
      "metadata": {
        "colab": {
          "base_uri": "https://localhost:8080/"
        },
        "outputId": "83bb60c9-1a8c-4e3f-8249-4c960b7674de",
        "id": "J2vNnl_SOT6x"
      },
      "execution_count": 74,
      "outputs": [
        {
          "output_type": "stream",
          "name": "stdout",
          "text": [
            "Distância: euclidean | Acurácia: 0.8488\n",
            "Distância: manhattan | Acurácia: 0.8488\n"
          ]
        }
      ]
    },
    {
      "cell_type": "markdown",
      "source": [
        "###2.1.c) - Avaliação dos Parâmetros -  Pesos (weights)"
      ],
      "metadata": {
        "id": "ZWXgzCDeOT6x"
      }
    },
    {
      "cell_type": "code",
      "source": [
        "#Vetor dos tipos de pesos\n",
        "weights_list = ['uniform', 'distance']\n",
        "\n",
        "#Determinando as accuracies para o melhor valor de K, distância elclidiana e para tipo de peso\n",
        "for w in weights_list:\n",
        "  knn = KNeighborsClassifier(n_neighbors=17,\n",
        "                             metric='euclidean',\n",
        "                             weights=w) #Construindo o classificador do modelo knn\n",
        "  knn.fit(X_train, y_train)             #Treinando o modelo knn com os dados de treino\n",
        "  y_pred = knn.predict(X_test)          #Predição do modelo knn com os dados de teste\n",
        "  acc = accuracy_score(y_test,y_pred)   #Calculo do accuracy_score\n",
        "  print(f\"Peso: {w} | Acurácia: {acc:.4f}\")\n"
      ],
      "metadata": {
        "colab": {
          "base_uri": "https://localhost:8080/"
        },
        "outputId": "5cbdf8c8-28c5-4bd0-c9a7-5ec504bf3745",
        "id": "x0etyCH8OT6x"
      },
      "execution_count": 75,
      "outputs": [
        {
          "output_type": "stream",
          "name": "stdout",
          "text": [
            "Peso: uniform | Acurácia: 0.8488\n",
            "Peso: distance | Acurácia: 0.8488\n"
          ]
        }
      ]
    },
    {
      "cell_type": "markdown",
      "source": [
        "##2.2 - Parte 2 - SEM utilização de Normalização"
      ],
      "metadata": {
        "id": "y7z1PDrHOT6y"
      }
    },
    {
      "cell_type": "code",
      "source": [
        "# Divisão treino/teste\n",
        "X_train, X_test, y_train, y_test = train_test_split(X, y, test_size = 0.3, random_state = 42)"
      ],
      "metadata": {
        "id": "1juZCS5GOT6y"
      },
      "execution_count": 37,
      "outputs": []
    },
    {
      "cell_type": "markdown",
      "source": [
        "###2.2.a) - Avaliação dos Parâmetros - Número k de vizinhos (n_neighbors)"
      ],
      "metadata": {
        "id": "d93-m71mOT6y"
      }
    },
    {
      "cell_type": "code",
      "source": [
        "#Importando o classificador knn\n",
        "from sklearn.neighbors import KNeighborsClassifier\n",
        "\n",
        "#Importando as métricas - accuracy_score\n",
        "from sklearn.metrics import accuracy_score\n",
        "\n",
        "#Importanto a Biblioteca Matplotlib\n",
        "import matplotlib.pyplot as plt"
      ],
      "metadata": {
        "id": "RwpaWxwHOT6y"
      },
      "execution_count": 38,
      "outputs": []
    },
    {
      "cell_type": "code",
      "source": [
        "#Construindo vetor dos k vizinhos\n",
        "k_values = range(1,31)"
      ],
      "metadata": {
        "id": "zKoUnoleOT6y"
      },
      "execution_count": 39,
      "outputs": []
    },
    {
      "cell_type": "code",
      "source": [
        "#Definindo variável de accuracies\n",
        "accuracies = []"
      ],
      "metadata": {
        "id": "kmdGE27cOT6z"
      },
      "execution_count": 40,
      "outputs": []
    },
    {
      "cell_type": "code",
      "source": [
        "#Determinando as accuracies para cada valor de k\n",
        "for k in k_values:\n",
        "  knn = KNeighborsClassifier(n_neighbors=k) #Construindo o classificador do modelo knn\n",
        "  knn.fit(X_train, y_train)                 #Treinando o modelo knn com os dados de treino\n",
        "  y_pred = knn.predict(X_test)              #Predição do modelo knn com os dados de teste\n",
        "  acc = accuracy_score(y_test,y_pred)       #Calculo do accuracy_score\n",
        "  accuracies.append(acc)                    #Inserção do accuracy_score na lista accuracies\n"
      ],
      "metadata": {
        "id": "H7RJm_J_OT6z"
      },
      "execution_count": 41,
      "outputs": []
    },
    {
      "cell_type": "code",
      "source": [
        "#Plotando os resultados\n",
        "plt.plot(k_values, accuracies, marker='o')\n",
        "plt.xlabel('Número de Vizinhos (k)')\n",
        "plt.ylabel('Acurácia')\n",
        "plt.title('Acurácia em função de k')\n",
        "plt.grid()\n",
        "plt.xticks(ticks=range(1, 31, 1))\n",
        "plt.show()"
      ],
      "metadata": {
        "colab": {
          "base_uri": "https://localhost:8080/",
          "height": 472
        },
        "outputId": "729592ae-e32d-4525-b4bd-f5930821323f",
        "id": "iY5lhHXaOT6z"
      },
      "execution_count": 42,
      "outputs": [
        {
          "output_type": "display_data",
          "data": {
            "text/plain": [
              "<Figure size 640x480 with 1 Axes>"
            ],
            "image/png": "[encoded data removed]"
          },
          "metadata": {}
        }
      ]
    },
    {
      "cell_type": "markdown",
      "source": [
        "###2.2.b) - Avaliação dos Parâmetros -  Distâncias (metric)\n"
      ],
      "metadata": {
        "id": "0P3xx7vjOT6z"
      }
    },
    {
      "cell_type": "markdown",
      "source": [
        "Para executar esse trecho de código, escolha o melhor k (neighbors) a partir do experimento anterior."
      ],
      "metadata": {
        "id": "zQWNPZ1iOT60"
      }
    },
    {
      "cell_type": "code",
      "source": [
        "#Vetor dos tipos de distância\n",
        "metrics = ['euclidean', 'manhattan']\n",
        "\n",
        "#Determinando as accuracies para o melhor valor de K e para cada tipo de distância\n",
        "for metric in metrics:\n",
        "  knn = KNeighborsClassifier(n_neighbors=13,\n",
        "                             metric=metric) #Construindo o classificador do modelo knn\n",
        "  knn.fit(X_train, y_train)                 #Treinando o modelo knn com os dados de treino\n",
        "  y_pred = knn.predict(X_test)              #Predição do modelo knn com os dados de teste\n",
        "  acc = accuracy_score(y_test, y_pred)      #Calculo do accuracy_score\n",
        "  print(f\"Distância: {metric} | Acurácia: {acc:.4f}\")"
      ],
      "metadata": {
        "colab": {
          "base_uri": "https://localhost:8080/"
        },
        "outputId": "1abf60ab-ec4c-49da-f9f2-b4ae70dc89ad",
        "id": "oLHK-90eOT60"
      },
      "execution_count": 43,
      "outputs": [
        {
          "output_type": "stream",
          "name": "stdout",
          "text": [
            "Distância: euclidean | Acurácia: 0.5190\n",
            "Distância: manhattan | Acurácia: 0.4927\n"
          ]
        }
      ]
    },
    {
      "cell_type": "markdown",
      "source": [
        "###2.2.c) - Avaliação dos Parâmetros -  Pesos (weights)"
      ],
      "metadata": {
        "id": "D0jLdw67OT60"
      }
    },
    {
      "cell_type": "code",
      "source": [
        "#Vetor dos tipos de pesos\n",
        "weights_list = ['uniform', 'distance']\n",
        "\n",
        "#Determinando as accuracies para o melhor valor de K, distância elclidiana e para tipo de peso\n",
        "for w in weights_list:\n",
        "  knn = KNeighborsClassifier(n_neighbors=13,\n",
        "                             metric='euclidean',\n",
        "                             weights=w) #Construindo o classificador do modelo knn\n",
        "  knn.fit(X_train, y_train)             #Treinando o modelo knn com os dados de treino\n",
        "  y_pred = knn.predict(X_test)          #Predição do modelo knn com os dados de teste\n",
        "  acc = accuracy_score(y_test,y_pred)   #Calculo do accuracy_score\n",
        "  print(f\"Peso: {w} | Acurácia: {acc:.4f}\")\n"
      ],
      "metadata": {
        "colab": {
          "base_uri": "https://localhost:8080/"
        },
        "outputId": "67b117cc-c149-4d3d-e4f3-a46e4c3a1eba",
        "id": "bvHIPv6WOT60"
      },
      "execution_count": 44,
      "outputs": [
        {
          "output_type": "stream",
          "name": "stdout",
          "text": [
            "Peso: uniform | Acurácia: 0.5190\n",
            "Peso: distance | Acurácia: 0.5598\n"
          ]
        }
      ]
    },
    {
      "cell_type": "markdown",
      "source": [
        "#3. BANCO DE DADOS:  evasao.csv"
      ],
      "metadata": {
        "id": "scd3wZ3jSMIx"
      }
    },
    {
      "cell_type": "code",
      "source": [
        "#Importando Bibliotecas Pertinentes\n",
        "\n",
        "import pandas as pd;                                  # Biblioteca Pandas\n",
        "from sklearn.model_selection import train_test_split; # train_test_split do sklearn\n",
        "from sklearn.preprocessing   import StandardScaler;   # Normalizador Padrão do sklearn"
      ],
      "metadata": {
        "id": "75IZAkIPSMIy"
      },
      "execution_count": 45,
      "outputs": []
    },
    {
      "cell_type": "code",
      "source": [
        "#Carregando Base de dados\n",
        "df_evasao = pd.read_csv(\"evasao.csv\", sep = \",\");"
      ],
      "metadata": {
        "id": "MgEAJwPeSMIy"
      },
      "execution_count": 46,
      "outputs": []
    },
    {
      "cell_type": "code",
      "source": [
        "# Verificar as primeiras linhas\n",
        "print(df_evasao.head())"
      ],
      "metadata": {
        "colab": {
          "base_uri": "https://localhost:8080/"
        },
        "outputId": "37687569-ab89-4cc1-b2b1-771805c8831c",
        "id": "P-3bh8hTSMIy"
      },
      "execution_count": 47,
      "outputs": [
        {
          "output_type": "stream",
          "name": "stdout",
          "text": [
            "   Cidade_Ouro Preto/MG  \\\n",
            "0                     0   \n",
            "1                     0   \n",
            "2                     0   \n",
            "3                     0   \n",
            "4                     0   \n",
            "\n",
            "   ESCOLA_FUNDAMENTAL_Instituto Educacao Manoel Pinheiro  \\\n",
            "0                                                  0       \n",
            "1                                                  0       \n",
            "2                                                  0       \n",
            "3                                                  0       \n",
            "4                                                  0       \n",
            "\n",
            "   ESCOLA_FUNDAMENTAL_E. M. Dom Orione  \\\n",
            "0                                    0   \n",
            "1                                    0   \n",
            "2                                    0   \n",
            "3                                    0   \n",
            "4                                    0   \n",
            "\n",
            "   ESCOLA_FUNDAMENTAL_E. M. Pres. Tancredo Neves  N_FILHOS  \\\n",
            "0                                              0       0.0   \n",
            "1                                              1       0.0   \n",
            "2                                              0       0.0   \n",
            "3                                              0       0.0   \n",
            "4                                              0       0.0   \n",
            "\n",
            "   ESCOLA_FUNDAMENTAL_E. E. Amélia Santana Barbosa  \\\n",
            "0                                                0   \n",
            "1                                                0   \n",
            "2                                                0   \n",
            "3                                                0   \n",
            "4                                                0   \n",
            "\n",
            "   ESCOLA_FUNDAMENTAL_E. E. José Rodrigues Betim  \\\n",
            "0                                              0   \n",
            "1                                              0   \n",
            "2                                              0   \n",
            "3                                              0   \n",
            "4                                              0   \n",
            "\n",
            "   CURSO_BH - Meio Ambiente - Integrado  Cidade_Diamantina/MG  \\\n",
            "0                                     1                     0   \n",
            "1                                     0                     0   \n",
            "2                                     0                     0   \n",
            "3                                     0                     0   \n",
            "4                                     0                     0   \n",
            "\n",
            "   ESCOLA_FUNDAMENTAL_Escola Estadual Dr. Agostinho da Silva Silveira  ...  \\\n",
            "0                                                  0                   ...   \n",
            "1                                                  0                   ...   \n",
            "2                                                  0                   ...   \n",
            "3                                                  0                   ...   \n",
            "4                                                  0                   ...   \n",
            "\n",
            "   ESCOLA_FUNDAMENTAL_E. M. José Ferreira Bastos  \\\n",
            "0                                              0   \n",
            "1                                              0   \n",
            "2                                              0   \n",
            "3                                              0   \n",
            "4                                              0   \n",
            "\n",
            "   ESCOLA_FUNDAMENTAL_Escola Estadual Cidade dos Meninos  \\\n",
            "0                                                  0       \n",
            "1                                                  0       \n",
            "2                                                  0       \n",
            "3                                                  0       \n",
            "4                                                  0       \n",
            "\n",
            "   ESCOLA_FUNDAMENTAL_Escola Municipal Governador Carlos Lacerda  \\\n",
            "0                                                  0               \n",
            "1                                                  0               \n",
            "2                                                  0               \n",
            "3                                                  1               \n",
            "4                                                  0               \n",
            "\n",
            "   ESCOLA_FUNDAMENTAL_Colégio Frederico Ozanam  Cidade_Minas Novas/MG  \\\n",
            "0                                            0                      0   \n",
            "1                                            0                      0   \n",
            "2                                            0                      0   \n",
            "3                                            0                      0   \n",
            "4                                            0                      0   \n",
            "\n",
            "   Forma_Ingresso_Decisão Judicial  \\\n",
            "0                                0   \n",
            "1                                0   \n",
            "2                                0   \n",
            "3                                0   \n",
            "4                                0   \n",
            "\n",
            "   Forma_Ingresso_Processo Seletivo - Opção por Cota  \\\n",
            "0                                                  0   \n",
            "1                                                  0   \n",
            "2                                                  0   \n",
            "3                                                  0   \n",
            "4                                                  0   \n",
            "\n",
            "   ETNIA_Não dispõe da informação  \\\n",
            "0                               1   \n",
            "1                               1   \n",
            "2                               1   \n",
            "3                               1   \n",
            "4                               1   \n",
            "\n",
            "   ESCOLA_FUNDAMENTAL_Escola Estadual Padre José de Man  \\\n",
            "0                                                  0      \n",
            "1                                                  0      \n",
            "2                                                  0      \n",
            "3                                                  0      \n",
            "4                                                  0      \n",
            "\n",
            "   Forma_Ingresso_Processo Seletivo Alternativo (rendimento Escolar)  \n",
            "0                                                  0                  \n",
            "1                                                  0                  \n",
            "2                                                  0                  \n",
            "3                                                  0                  \n",
            "4                                                  0                  \n",
            "\n",
            "[5 rows x 334 columns]\n"
          ]
        }
      ]
    },
    {
      "cell_type": "code",
      "source": [
        "df_evasao.info()"
      ],
      "metadata": {
        "colab": {
          "base_uri": "https://localhost:8080/"
        },
        "id": "M71PPy4EsFSu",
        "outputId": "8d73fc9c-818e-4e10-fbaf-b490b0b49670"
      },
      "execution_count": 48,
      "outputs": [
        {
          "output_type": "stream",
          "name": "stdout",
          "text": [
            "<class 'pandas.core.frame.DataFrame'>\n",
            "RangeIndex: 681 entries, 0 to 680\n",
            "Columns: 334 entries, Cidade_Ouro Preto/MG to Forma_Ingresso_Processo Seletivo Alternativo (rendimento Escolar)\n",
            "dtypes: float64(2), int64(332)\n",
            "memory usage: 1.7 MB\n"
          ]
        }
      ]
    },
    {
      "cell_type": "code",
      "source": [
        "# Separar atributos e classe\n",
        "X = df_evasao.drop(columns = ['Evadiu'])\n",
        "y = df_evasao['Evadiu']"
      ],
      "metadata": {
        "id": "erJ4AkL9SMIz"
      },
      "execution_count": 49,
      "outputs": []
    },
    {
      "cell_type": "markdown",
      "source": [
        "##3.1 - Parte 1 - Utilizando Normalização (StandardScaler)"
      ],
      "metadata": {
        "id": "nrYnWrJWSMIz"
      }
    },
    {
      "cell_type": "code",
      "source": [
        "# Normalização\n",
        "scaler = StandardScaler()\n",
        "X_scaled = scaler.fit_transform(X)"
      ],
      "metadata": {
        "id": "h6HVXK0iSMIz"
      },
      "execution_count": 50,
      "outputs": []
    },
    {
      "cell_type": "code",
      "source": [
        "# Divisão treino/teste\n",
        "X_train, X_test, y_train, y_test = train_test_split(X_scaled, y, test_size = 0.3, random_state = 42)"
      ],
      "metadata": {
        "id": "kzdllzEeSMIz"
      },
      "execution_count": 51,
      "outputs": []
    },
    {
      "cell_type": "markdown",
      "source": [
        "###3.1.a) - Avaliação dos Parâmetros - Número k de vizinhos (n_neighbors)"
      ],
      "metadata": {
        "id": "NMKGXNrFSMIz"
      }
    },
    {
      "cell_type": "code",
      "source": [
        "#Importando o classificador knn\n",
        "from sklearn.neighbors import KNeighborsClassifier\n",
        "\n",
        "#Importando as métricas - accuracy_score\n",
        "from sklearn.metrics import accuracy_score\n",
        "\n",
        "#Importanto a Biblioteca Matplotlib\n",
        "import matplotlib.pyplot as plt"
      ],
      "metadata": {
        "id": "8Ho_BKJmSMI0"
      },
      "execution_count": 52,
      "outputs": []
    },
    {
      "cell_type": "code",
      "source": [
        "#Construindo vetor dos k vizinhos\n",
        "k_values = range(1,31)"
      ],
      "metadata": {
        "id": "uzkH30ypSMI0"
      },
      "execution_count": 53,
      "outputs": []
    },
    {
      "cell_type": "code",
      "source": [
        "#Definindo variável de accuracies\n",
        "accuracies = []"
      ],
      "metadata": {
        "id": "AIs63ElnSMI0"
      },
      "execution_count": 54,
      "outputs": []
    },
    {
      "cell_type": "code",
      "source": [
        "#Determinando as accuracies para cada valor de k\n",
        "for k in k_values:\n",
        "  knn = KNeighborsClassifier(n_neighbors=k) #Construindo o classificador do modelo knn\n",
        "  knn.fit(X_train, y_train)                 #Treinando o modelo knn com os dados de treino\n",
        "  y_pred = knn.predict(X_test)              #Predição do modelo knn com os dados de teste\n",
        "  acc = accuracy_score(y_test,y_pred)       #Calculo do accuracy_score\n",
        "  accuracies.append(acc)                    #Inserção do accuracy_score na lista accuracies\n"
      ],
      "metadata": {
        "id": "k8oG5JnqSMI0"
      },
      "execution_count": 55,
      "outputs": []
    },
    {
      "cell_type": "code",
      "source": [
        "#Plotando os resultados\n",
        "plt.plot(k_values, accuracies, marker='o')\n",
        "plt.xlabel('Número de Vizinhos (k)')\n",
        "plt.ylabel('Acurácia')\n",
        "plt.title('Acurácia em função de k')\n",
        "plt.grid()\n",
        "plt.xticks(ticks=range(1, 31, 1))\n",
        "plt.show()"
      ],
      "metadata": {
        "colab": {
          "base_uri": "https://localhost:8080/",
          "height": 472
        },
        "outputId": "1d35ff7b-6df0-429b-81fc-590b46d33e38",
        "id": "zvr1az3ZSMI1"
      },
      "execution_count": 56,
      "outputs": [
        {
          "output_type": "display_data",
          "data": {
            "text/plain": [
              "<Figure size 640x480 with 1 Axes>"
            ],
            "image/png": "[encoded data removed]"
          },
          "metadata": {}
        }
      ]
    },
    {
      "cell_type": "markdown",
      "source": [
        "###3.1.b) - Avaliação dos Parâmetros -  Distâncias (metric)\n"
      ],
      "metadata": {
        "id": "DlyXpeNsSMI1"
      }
    },
    {
      "cell_type": "markdown",
      "source": [
        "Para executar esse trecho de código, escolha o melhor k (neighbors) a partir do experimento anterior."
      ],
      "metadata": {
        "id": "aharfup4SMI1"
      }
    },
    {
      "cell_type": "code",
      "source": [
        "#Vetor dos tipos de distância\n",
        "metrics = ['euclidean', 'manhattan']\n",
        "\n",
        "#Determinando as accuracies para o melhor valor de K e para cada tipo de distância\n",
        "for metric in metrics:\n",
        "  knn = KNeighborsClassifier(n_neighbors=9,\n",
        "                             metric=metric) #Construindo o classificador do modelo knn\n",
        "  knn.fit(X_train, y_train)                 #Treinando o modelo knn com os dados de treino\n",
        "  y_pred = knn.predict(X_test)              #Predição do modelo knn com os dados de teste\n",
        "  acc = accuracy_score(y_test, y_pred)      #Calculo do accuracy_score\n",
        "  print(f\"Distância: {metric} | Acurácia: {acc:.4f}\")"
      ],
      "metadata": {
        "colab": {
          "base_uri": "https://localhost:8080/"
        },
        "outputId": "f009afe3-b7c3-45f9-c1b2-1594af60d0e4",
        "id": "fS9ak3rESMI1"
      },
      "execution_count": 57,
      "outputs": [
        {
          "output_type": "stream",
          "name": "stdout",
          "text": [
            "Distância: euclidean | Acurácia: 0.8537\n",
            "Distância: manhattan | Acurácia: 0.8488\n"
          ]
        }
      ]
    },
    {
      "cell_type": "markdown",
      "source": [
        "###3.1.c) - Avaliação dos Parâmetros -  Pesos (weights)"
      ],
      "metadata": {
        "id": "p4bCskAfSMI1"
      }
    },
    {
      "cell_type": "code",
      "source": [
        "#Vetor dos tipos de pesos\n",
        "weights_list = ['uniform', 'distance']\n",
        "\n",
        "#Determinando as accuracies para o melhor valor de K, distância elclidiana e para tipo de peso\n",
        "for w in weights_list:\n",
        "  knn = KNeighborsClassifier(n_neighbors=9,\n",
        "                             metric='euclidean',\n",
        "                             weights=w) #Construindo o classificador do modelo knn\n",
        "  knn.fit(X_train, y_train)             #Treinando o modelo knn com os dados de treino\n",
        "  y_pred = knn.predict(X_test)          #Predição do modelo knn com os dados de teste\n",
        "  acc = accuracy_score(y_test,y_pred)   #Calculo do accuracy_score\n",
        "  print(f\"Peso: {w} | Acurácia: {acc:.4f}\")\n"
      ],
      "metadata": {
        "colab": {
          "base_uri": "https://localhost:8080/"
        },
        "outputId": "07975bf4-843d-4b49-e934-2586465f48f2",
        "id": "6cAlNxRASMI2"
      },
      "execution_count": 58,
      "outputs": [
        {
          "output_type": "stream",
          "name": "stdout",
          "text": [
            "Peso: uniform | Acurácia: 0.8537\n",
            "Peso: distance | Acurácia: 0.8488\n"
          ]
        }
      ]
    },
    {
      "cell_type": "markdown",
      "source": [
        "##3.2 - Parte 2 - SEM utilização de Normalização"
      ],
      "metadata": {
        "id": "_lcVwEaISMI2"
      }
    },
    {
      "cell_type": "code",
      "source": [
        "# Divisão treino/teste\n",
        "X_train, X_test, y_train, y_test = train_test_split(X, y, test_size = 0.3, random_state = 42)"
      ],
      "metadata": {
        "id": "Fm4GmJMDSMI2"
      },
      "execution_count": 59,
      "outputs": []
    },
    {
      "cell_type": "markdown",
      "source": [
        "###3.2.a) - Avaliação dos Parâmetros - Número k de vizinhos (n_neighbors)"
      ],
      "metadata": {
        "id": "oaEcreTeSMI2"
      }
    },
    {
      "cell_type": "code",
      "source": [
        "#Importando o classificador knn\n",
        "from sklearn.neighbors import KNeighborsClassifier\n",
        "\n",
        "#Importando as métricas - accuracy_score\n",
        "from sklearn.metrics import accuracy_score\n",
        "\n",
        "#Importanto a Biblioteca Matplotlib\n",
        "import matplotlib.pyplot as plt"
      ],
      "metadata": {
        "id": "5GFXz78pSMI3"
      },
      "execution_count": 60,
      "outputs": []
    },
    {
      "cell_type": "code",
      "source": [
        "#Construindo vetor dos k vizinhos\n",
        "k_values = range(1,31)"
      ],
      "metadata": {
        "id": "FIQW7_hfSMI3"
      },
      "execution_count": 61,
      "outputs": []
    },
    {
      "cell_type": "code",
      "source": [
        "#Definindo variável de accuracies\n",
        "accuracies = []"
      ],
      "metadata": {
        "id": "xbgUfneCSMI3"
      },
      "execution_count": 62,
      "outputs": []
    },
    {
      "cell_type": "code",
      "source": [
        "#Determinando as accuracies para cada valor de k\n",
        "for k in k_values:\n",
        "  knn = KNeighborsClassifier(n_neighbors=k) #Construindo o classificador do modelo knn\n",
        "  knn.fit(X_train, y_train)                 #Treinando o modelo knn com os dados de treino\n",
        "  y_pred = knn.predict(X_test)              #Predição do modelo knn com os dados de teste\n",
        "  acc = accuracy_score(y_test,y_pred)       #Calculo do accuracy_score\n",
        "  accuracies.append(acc)                    #Inserção do accuracy_score na lista accuracies\n"
      ],
      "metadata": {
        "id": "7BSZ5PoWSMI3"
      },
      "execution_count": 63,
      "outputs": []
    },
    {
      "cell_type": "code",
      "source": [
        "#Plotando os resultados\n",
        "plt.plot(k_values, accuracies, marker='o')\n",
        "plt.xlabel('Número de Vizinhos (k)')\n",
        "plt.ylabel('Acurácia')\n",
        "plt.title('Acurácia em função de k')\n",
        "plt.grid()\n",
        "plt.xticks(ticks=range(1, 31, 1))\n",
        "plt.show()"
      ],
      "metadata": {
        "colab": {
          "base_uri": "https://localhost:8080/",
          "height": 472
        },
        "outputId": "bd14b4d2-24fd-42f2-c11a-a2df1cc19146",
        "id": "ax170FkfSMI3"
      },
      "execution_count": 64,
      "outputs": [
        {
          "output_type": "display_data",
          "data": {
            "text/plain": [
              "<Figure size 640x480 with 1 Axes>"
            ],
            "image/png": "[encoded data removed]"
          },
          "metadata": {}
        }
      ]
    },
    {
      "cell_type": "markdown",
      "source": [
        "###3.2.b) - Avaliação dos Parâmetros -  Distâncias (metric)\n"
      ],
      "metadata": {
        "id": "qHJs3k0gSMI4"
      }
    },
    {
      "cell_type": "markdown",
      "source": [
        "Para executar esse trecho de código, escolha o melhor k (neighbors) a partir do experimento anterior."
      ],
      "metadata": {
        "id": "NTpnygpHSMI4"
      }
    },
    {
      "cell_type": "code",
      "source": [
        "#Vetor dos tipos de distância\n",
        "metrics = ['euclidean', 'manhattan']\n",
        "\n",
        "#Determinando as accuracies para o melhor valor de K e para cada tipo de distância\n",
        "for metric in metrics:\n",
        "  knn = KNeighborsClassifier(n_neighbors=10,\n",
        "                             metric=metric) #Construindo o classificador do modelo knn\n",
        "  knn.fit(X_train, y_train)                 #Treinando o modelo knn com os dados de treino\n",
        "  y_pred = knn.predict(X_test)              #Predição do modelo knn com os dados de teste\n",
        "  acc = accuracy_score(y_test, y_pred)      #Calculo do accuracy_score\n",
        "  print(f\"Distância: {metric} | Acurácia: {acc:.4f}\")"
      ],
      "metadata": {
        "colab": {
          "base_uri": "https://localhost:8080/"
        },
        "outputId": "a1196f95-a217-4d3d-f512-119189c1c4d7",
        "id": "KBQI9Hi_SMI4"
      },
      "execution_count": 65,
      "outputs": [
        {
          "output_type": "stream",
          "name": "stdout",
          "text": [
            "Distância: euclidean | Acurácia: 0.8488\n",
            "Distância: manhattan | Acurácia: 0.8488\n"
          ]
        }
      ]
    },
    {
      "cell_type": "markdown",
      "source": [
        "###3.2.c) - Avaliação dos Parâmetros -  Pesos (weights)"
      ],
      "metadata": {
        "id": "QL2t7bneSMI4"
      }
    },
    {
      "cell_type": "code",
      "source": [
        "#Vetor dos tipos de pesos\n",
        "weights_list = ['uniform', 'distance']\n",
        "\n",
        "#Determinando as accuracies para o melhor valor de K, distância elclidiana e para tipo de peso\n",
        "for w in weights_list:\n",
        "  knn = KNeighborsClassifier(n_neighbors=10,\n",
        "                             metric='euclidean',\n",
        "                             weights=w) #Construindo o classificador do modelo knn\n",
        "  knn.fit(X_train, y_train)             #Treinando o modelo knn com os dados de treino\n",
        "  y_pred = knn.predict(X_test)          #Predição do modelo knn com os dados de teste\n",
        "  acc = accuracy_score(y_test,y_pred)   #Calculo do accuracy_score\n",
        "  print(f\"Peso: {w} | Acurácia: {acc:.4f}\")\n"
      ],
      "metadata": {
        "colab": {
          "base_uri": "https://localhost:8080/"
        },
        "outputId": "9c266921-a88c-4b8c-bbe9-d90926b200b3",
        "id": "SPwV9ULQSMI5"
      },
      "execution_count": 66,
      "outputs": [
        {
          "output_type": "stream",
          "name": "stdout",
          "text": [
            "Peso: uniform | Acurácia: 0.8488\n",
            "Peso: distance | Acurácia: 0.8195\n"
          ]
        }
      ]
    },
    {
      "cell_type": "markdown",
      "source": [
        "# 4. RESULTADOS"
      ],
      "metadata": {
        "id": "KHRntAKOEVA9"
      }
    },
    {
      "cell_type": "markdown",
      "source": [
        "###Qual configuração teve melhor desempenho e por quê para cada conjunto de dados"
      ],
      "metadata": {
        "id": "oRzAiFdkExju"
      }
    },
    {
      "cell_type": "markdown",
      "source": [
        "A Base de Dados Iris é compostas por 150 regristros, 4 atributos (sepal_length, sepal_width, petal_length, petal_width), e 1 classe (species). Na avaliação que busca encontrar o melhor número de vizinhos (k) entre 1 e 31, observou-se uma ampla faixa de valores em que a acurácia ficou entre 0,98 e 1 (1 <= k <= 23), tendo seu valor diminuído para até 0,88 a partir do k > 23. Nesta avaliação escolheu-se o k = 5, por ser um dos valores com maior acurária (1,0) ser um valor historicamente bom. Supõe-se também que quando maior o valor de k o modelo se torna cada vez mais underfit. Partindo para a avaliação do melhor tipo de distância (euclidiana ou manhattan),acrescentou-se ao classificador, além do hiperparâmetro \"n_neighbors\" (igual a 5), mais um hiperparâmetro (metric) que pôde ser um dos tipos de distância citados acima. Não houve diferença diferença entre os tipos de distância euclidiana ou manhattan. Em ambas o valor da acurácia foi igual a 1. Por fim, realizando a avaliação do tipo de ponderação/peso (uniforme ou pela distância), acrescentou-se o hiperparâmetro \"weights\". Assim como na availição das distâncias, o acrescimo deste hiperparâmetro não teve efeito de melhoria no modelo, permanecendo o valor da acurária igual a 1 para ambos os pesos. A melhor configuração, portanto, para a base IRIS foi: n_neighbors=5, metric = euclidean ou manhattan, weights = uniform ou distance.\n",
        "\n",
        "Para a Base de Dados WineQT, tem-se que ela é compostas por 1143 regristros, 12 atributos (fixed acidity, volatile acidity, citric acid,residual sugar, chlorides, free sulfur dioxide, total sulfur dioxide,density, pH, sulphates, alcohol,Id), e 1 classe (quality). Na avaliação que busca encontrar o melhor número de vizinhos (k) entre 1 e 31, observou-se, de maneira geral, que aumentando o número de vizinho há uma melhora na acurária. Nesta avaliação escolheu-se o k = 17, por ser o valor com maior acurária (aproximadamente 0,64). Partindo para a avaliação do melhor tipo de distância (euclidiana ou manhattan),acrescentou-se ao classificador, além do hiperparâmetro \"n_neighbors\" (igual a 17), mais um hiperparâmetro (metric) que pôde ser um dos tipos de distância citados acima. Houve neste caso, uma piora no valor da acurácia. Para a distância euclidiana o valor foi de 0,6356, e para a distância de manhattan 0,6181. Por está bem próxima do valor de 0,64 escolheu-se a distância euclidiana. Por fim, realizando a avaliação do tipo de ponderação/peso (uniforme ou pela distância), acrescentou-se o hiperparâmetro \"weights\". O modelo que utilizou a ponderação pela distância teve uma melhoria da acurácia (0,6822), enquanto o modelo com a ponderação uniforme não houve alteração do valor (0,6356). A melhor configuração, portanto, para a base WineQT foi: n_neighbors=17, metric = euclidean, weights = distance.\n",
        "\n",
        "Para a Base de Dados evasao, tem-se que ela é compostas por 681  regristros, 333 atributos, e 1 classe (evasao). Na avaliação que busca encontrar o melhor número de vizinhos (k) entre 1 e 31, observou-se que a melhor quantidade de vizinhos é k = 9, por ser o valor com maior acurária (aproximadamente 0,855). Partindo para a avaliação do melhor tipo de distância (euclidiana ou manhattan),acrescentou-se ao classificador, além do hiperparâmetro \"n_neighbors\" (igual a 9), mais um hiperparâmetro (metric) que pôde ser um dos tipos de distância citados acima. Não foi observado diferença significativa com o acrescimo do hiperparâmetro de distância. Para a distância euclidiana o valor da acuracia foi de 0,8537, enquanto para a direção de manhattan foi de 0,8488. Como a distância euclidiana foi um pouco maior escolheu-se ela. Por fim, realizando a avaliação do tipo de ponderação/peso (uniforme ou pela distância), acrescentou-se o hiperparâmetro \"weights\". Não houve melhoria da acuracia para ambas as situações. A melhor configuração, portanto, para a base evasao foi: n_neighbors=9, metric = euclidean, weights = distance ou uniform."
      ],
      "metadata": {
        "id": "Dus7g8_nGqJJ"
      }
    },
    {
      "cell_type": "markdown",
      "source": [
        "###Qual a influência da normalização"
      ],
      "metadata": {
        "id": "uim_zNCzEbqf"
      }
    },
    {
      "cell_type": "markdown",
      "source": [
        "Observou-se que para cada de Base de Dados, assumindo a melhor configuração, houve diminuição do valor da acurácia, quando os atributos não foram normalizados. Para a base IRIS houve a diminuição de 1 para 0,8146, já para a base WineQT saiu de 0,6822 para 0,5598, e finalmente, para a base evasão de 0,8537 para 0,8488. Esta diminuição acontece, possivelmente, pelo fato que ao realizar a normalização tenta-se evitar distorções nas distâncias, fazendo com que as variáveis contribuam de maneira mais igual, evitando que uma variável se sobressaia sobre outra."
      ],
      "metadata": {
        "id": "fZg-M8Uvv7jt"
      }
    }
  ]
}